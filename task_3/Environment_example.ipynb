{
  "nbformat": 4,
  "nbformat_minor": 0,
  "metadata": {
    "colab": {
      "provenance": []
    },
    "kernelspec": {
      "name": "python3",
      "display_name": "Python 3"
    },
    "language_info": {
      "name": "python"
    }
  },
  "cells": [
    {
      "cell_type": "code",
      "execution_count": null,
      "metadata": {
        "id": "MXXTuy_o0sjk"
      },
      "outputs": [],
      "source": [
        "!pip install -q -U kaggle_environments"
      ]
    },
    {
      "cell_type": "code",
      "source": [
        "import numpy as np\n",
        "import pandas as pd\n",
        "import random\n",
        "import math\n",
        "\n",
        "import matplotlib.pyplot as plt\n",
        "import seaborn as sns\n",
        "\n",
        "from kaggle_environments import make, evaluate"
      ],
      "metadata": {
        "id": "yz23vWHD0wcj"
      },
      "execution_count": null,
      "outputs": []
    },
    {
      "cell_type": "markdown",
      "source": [
        "**1. Опишем поведение агента, всегда играющего \"камень\" - это значение 0**"
      ],
      "metadata": {
        "id": "0kuo6IOxiRub"
      }
    },
    {
      "cell_type": "code",
      "source": [
        "def my_rock_agent(observation, configuration):\n",
        "    return 0"
      ],
      "metadata": {
        "id": "bqTqV7B92rJ6"
      },
      "execution_count": null,
      "outputs": []
    },
    {
      "cell_type": "markdown",
      "source": [
        "**2. Опишем поведение агента, всегда играющего \"бумагу\" - это значение 1**"
      ],
      "metadata": {
        "id": "GhQRcmYR4HQV"
      }
    },
    {
      "cell_type": "code",
      "source": [
        "def my_paper_agent(observation, configuration):\n",
        "    return 1"
      ],
      "metadata": {
        "id": "6ByjNqDb01Vf"
      },
      "execution_count": null,
      "outputs": []
    },
    {
      "cell_type": "markdown",
      "source": [
        "**3. Опишем поведение агента, всегда играющего \"ножницы\" - это значение 2**"
      ],
      "metadata": {
        "id": "_7OiLHiAA9hS"
      }
    },
    {
      "cell_type": "code",
      "source": [
        "def my_scissors_agent(observation, configuration):\n",
        "    return 2"
      ],
      "metadata": {
        "id": "9nSpPfApBDZj"
      },
      "execution_count": null,
      "outputs": []
    },
    {
      "cell_type": "markdown",
      "source": [
        "**4. Опишем поведение агента, который всегда случайно играет**"
      ],
      "metadata": {
        "id": "et1J5hUGigeh"
      }
    },
    {
      "cell_type": "code",
      "source": [
        "def random_agent(observation, configuration):\n",
        "    return random.randint(0,2)"
      ],
      "metadata": {
        "id": "7l6Ttw6qi0jk"
      },
      "execution_count": null,
      "outputs": []
    },
    {
      "cell_type": "markdown",
      "source": [
        "**5. Опишем поведение агента, который в четную игру ставит \"ножницы\" (значение 2), а в нечетную \"камень\" (значение 0)**"
      ],
      "metadata": {
        "id": "A8uIWZ-rhTSE"
      }
    },
    {
      "cell_type": "code",
      "source": [
        "def chet_sc_agent(observation, configuration):\n",
        "    # Так как шаги начинаются с 0, а попытка 1 (нечетная) добавляем к шагу +1\n",
        "    if (observation.step + 1) % 2 == 0:\n",
        "        return 2\n",
        "    else:\n",
        "        return 0"
      ],
      "metadata": {
        "id": "Il1S6AEKhkGY"
      },
      "execution_count": null,
      "outputs": []
    },
    {
      "cell_type": "markdown",
      "source": [
        "**6. Опишем агента, который в четную игру ставит \"камень\" (значение 0), а в нечетную \"бумагу\" (значение 1)**"
      ],
      "metadata": {
        "id": "cYCr9h4HieqG"
      }
    },
    {
      "cell_type": "code",
      "source": [
        "def chet_ro_agent(observation, configuration):\n",
        "    # Так как шаги начинаются с 0, а попытка 1 (нечетная) добавляем к шагу +1\n",
        "    if (observation.step + 1) % 2 == 0:\n",
        "        return 0\n",
        "    else:\n",
        "        return 1"
      ],
      "metadata": {
        "id": "83mH3ogQifjs"
      },
      "execution_count": null,
      "outputs": []
    },
    {
      "cell_type": "markdown",
      "source": [
        "**7. Опишем агента, который в четную игру ставит \"бумагу\" (значение 1), а в нечетную \"камень\" (значение 0)**"
      ],
      "metadata": {
        "id": "4T1_RQQxi5-f"
      }
    },
    {
      "cell_type": "code",
      "source": [
        "def chet_pa_agent(observation, configuration):\n",
        "    # Так как шаги начинаются с 0, а попытка 1 (нечетная) добавляем к шагу +1\n",
        "    if (observation.step + 1) % 2 == 0:\n",
        "        return 1\n",
        "    else:\n",
        "        return 0"
      ],
      "metadata": {
        "id": "NrI-6ykWi6ky"
      },
      "execution_count": null,
      "outputs": []
    },
    {
      "cell_type": "markdown",
      "source": [
        "**8. Опишем агента, который производит то же самое действие, что и оппонент на прошлом ходу**"
      ],
      "metadata": {
        "id": "0KVAoYg0i7Kj"
      }
    },
    {
      "cell_type": "code",
      "source": [
        "def copy_agent(observation, configuration):\n",
        "    if observation.step > 0:\n",
        "        return observation.lastOpponentAction\n",
        "    else:\n",
        "        return random.randint(0,2)"
      ],
      "metadata": {
        "id": "_nLbbYm1i7h8"
      },
      "execution_count": null,
      "outputs": []
    },
    {
      "cell_type": "markdown",
      "source": [
        "**9. Опишем агента, который ставит следующее значение от предыдущего оппонента (последовательность 0-1-2)**"
      ],
      "metadata": {
        "id": "jugyVEpFkkg3"
      }
    },
    {
      "cell_type": "code",
      "source": [
        "def last_plus_agent(observation, configuration):\n",
        "    if observation.step > 0:\n",
        "        return (observation.lastOpponentAction + 1) % 3\n",
        "    else:\n",
        "        return random.randint(0,2)"
      ],
      "metadata": {
        "id": "mcC8CefLkkrF"
      },
      "execution_count": null,
      "outputs": []
    },
    {
      "cell_type": "markdown",
      "source": [
        "**10. Опишем агента, который ставит предыдущее значение от предыдущего оппонента (последовательность 0-1-2)**"
      ],
      "metadata": {
        "id": "YVX1DHcPl-YU"
      }
    },
    {
      "cell_type": "code",
      "source": [
        "def last_minus_agent(observation, configuration):\n",
        "    if observation.step > 0:\n",
        "        # Словарь для выбора предыдущих значений\n",
        "        mapping = {0: 2, 1: 0, 2: 1}\n",
        "        return mapping[observation.lastOpponentAction]\n",
        "    else:\n",
        "        return random.randint(0,2)"
      ],
      "metadata": {
        "id": "S-zE3eInl-g7"
      },
      "execution_count": null,
      "outputs": []
    },
    {
      "cell_type": "markdown",
      "source": [
        "**11. Опишем агента, который ставит согласно последовательности (2-2-1)**"
      ],
      "metadata": {
        "id": "jpBpVWnynJz8"
      }
    },
    {
      "cell_type": "code",
      "source": [
        "def two_two_one_agent(observation, configuration):\n",
        "    if (observation.step + 1) % 3 or observation.step == 0:\n",
        "        return 2\n",
        "    else:\n",
        "        return 1"
      ],
      "metadata": {
        "id": "ZrIOw498mlJ9"
      },
      "execution_count": null,
      "outputs": []
    },
    {
      "cell_type": "markdown",
      "source": [
        "**12. Опишем агента, который ставит согласно последовательности (1-1-2)**"
      ],
      "metadata": {
        "id": "Os29I0g1qDy_"
      }
    },
    {
      "cell_type": "code",
      "source": [
        "def one_one_two_agent(observation, configuration):\n",
        "    if (observation.step + 1) % 3 or observation.step == 0:\n",
        "        return 1\n",
        "    else:\n",
        "        return 2"
      ],
      "metadata": {
        "id": "Llebuy3uqDKk"
      },
      "execution_count": null,
      "outputs": []
    },
    {
      "cell_type": "markdown",
      "source": [
        "**13. Опишем агента, который ставит согласно последовательности (0-0-2)**"
      ],
      "metadata": {
        "id": "QMHybZx7qfwC"
      }
    },
    {
      "cell_type": "code",
      "source": [
        "def zero_zero_two_agent(observation, configuration):\n",
        "    if (observation.step + 1) % 3 or observation.step == 0:\n",
        "        return 0\n",
        "    else:\n",
        "        return 2"
      ],
      "metadata": {
        "id": "u6FIWgF6qfJq"
      },
      "execution_count": null,
      "outputs": []
    },
    {
      "cell_type": "markdown",
      "source": [
        "**Собираем словарь агентов, где ключ - наименование, а значение сама функция агента**"
      ],
      "metadata": {
        "id": "VqGhBnmUqwVh"
      }
    },
    {
      "cell_type": "code",
      "source": [
        "agents = {\n",
        "    \"my_rock_agent\": my_rock_agent,\n",
        "    \"my_paper_agent\": my_paper_agent,\n",
        "    \"my_scissors_agent\": my_scissors_agent,\n",
        "    \"random_agent\": random_agent,\n",
        "    \"chet_sc_agent\": chet_sc_agent,\n",
        "    \"chet_ro_agent\": chet_ro_agent,\n",
        "    \"chet_pa_agent\": chet_pa_agent,\n",
        "    \"copy_agent\": copy_agent,\n",
        "    \"last_plus_agent\": last_plus_agent,\n",
        "    \"last_minus_agent\": last_minus_agent,\n",
        "    \"two_two_one_agent\": two_two_one_agent,\n",
        "    \"one_one_two_agent\": one_one_two_agent,\n",
        "    \"zero_zero_two_agent\": zero_zero_two_agent\n",
        "}"
      ],
      "metadata": {
        "id": "oBY4odHGaY0H"
      },
      "execution_count": null,
      "outputs": []
    },
    {
      "cell_type": "markdown",
      "source": [
        "**Собираем словарь агентов, где ключ - наименование, а значение количество очков**"
      ],
      "metadata": {
        "id": "cctE_PAlwBOj"
      }
    },
    {
      "cell_type": "code",
      "source": [
        "result_win = {\n",
        "    \"my_rock_agent\": 0,\n",
        "    \"my_paper_agent\": 0,\n",
        "    \"my_scissors_agent\": 0,\n",
        "    \"random_agent\": 0,\n",
        "    \"chet_sc_agent\": 0,\n",
        "    \"chet_ro_agent\": 0,\n",
        "    \"chet_pa_agent\": 0,\n",
        "    \"copy_agent\": 0,\n",
        "    \"last_plus_agent\": 0,\n",
        "    \"last_minus_agent\": 0,\n",
        "    \"two_two_one_agent\": 0,\n",
        "    \"one_one_two_agent\": 0,\n",
        "    \"zero_zero_two_agent\": 0\n",
        "}"
      ],
      "metadata": {
        "id": "I_tH8cCY7EN0"
      },
      "execution_count": null,
      "outputs": []
    },
    {
      "cell_type": "markdown",
      "source": [
        "**Проводим турнир среди всех агентов. Играет каждый с каждым по 200 раз (можно увеличить при необходимости)**"
      ],
      "metadata": {
        "id": "bLe37qRFBpWK"
      }
    },
    {
      "cell_type": "code",
      "source": [
        "# Создаем вспомогательный список\n",
        "agents_help = list(agents.keys())\n",
        "\n",
        "# Цикл по элементам словаря (все агенты)\n",
        "for i in agents:\n",
        "\n",
        "  # Цикл по элементам вспомогательного списка\n",
        "  for j in agents_help:\n",
        "\n",
        "    # Используем функцию для получение результата 200 игр\n",
        "    temp = (evaluate(\"rps\", [agents[i], agents[j] ], configuration={\"episodeSteps\": 200}))\n",
        "\n",
        "    # Записываем очки каждому из ангетов\n",
        "    result_win[i] += temp[0][0]\n",
        "    result_win[j] += temp[0][1]\n",
        "\n",
        "  # Удаляем прошедшего агента из вспомогательного списка\n",
        "  agents_help.remove(i)\n",
        "\n",
        "# Сортируем получившийся словарь по количеству очков агентов\n",
        "agents_win = {key: value for key, value in sorted(result_win.items(), key=lambda item: item[1], reverse=True)}\n",
        "\n",
        "# Выводим агента и его очки в порядке убывания\n",
        "for agent, win in agents_win.items():\n",
        "  print(f'{agent} количество побед - {win}')\n"
      ],
      "metadata": {
        "colab": {
          "base_uri": "https://localhost:8080/"
        },
        "id": "mI8J7tON7Oae",
        "outputId": "c8e1c605-13ab-435e-d571-c721eebf9ab8"
      },
      "execution_count": null,
      "outputs": [
        {
          "output_type": "stream",
          "name": "stdout",
          "text": [
            "copy_agent количество побед - 597.0\n",
            "chet_ro_agent количество побед - 335.0\n",
            "one_one_two_agent количество побед - 309.0\n",
            "my_paper_agent количество побед - 134.0\n",
            "random_agent количество побед - 45.0\n",
            "last_plus_agent количество побед - -3.0\n",
            "chet_sc_agent количество побед - -68.0\n",
            "my_rock_agent количество побед - -69.0\n",
            "my_scissors_agent количество побед - -69.0\n",
            "zero_zero_two_agent количество побед - -88.0\n",
            "chet_pa_agent количество побед - -266.0\n",
            "two_two_one_agent количество побед - -266.0\n",
            "last_minus_agent количество побед - -591.0\n"
          ]
        }
      ]
    },
    {
      "cell_type": "markdown",
      "source": [
        "**Отобразим результаты на графике**"
      ],
      "metadata": {
        "id": "25QgFa_CEVi0"
      }
    },
    {
      "cell_type": "code",
      "source": [
        "# Значения на оси x и y\n",
        "names = agents_win.keys()\n",
        "values = agents_win.values()\n",
        "\n",
        "# Размер графика и его отображение\n",
        "plt.figure(figsize=(25, 10))\n",
        "plt.bar(names, values)\n",
        "plt.show()"
      ],
      "metadata": {
        "colab": {
          "base_uri": "https://localhost:8080/",
          "height": 757
        },
        "id": "-DANgssSCK7o",
        "outputId": "c873bb5a-9fc5-4591-cee5-a181116a204e"
      },
      "execution_count": null,
      "outputs": [
        {
          "output_type": "display_data",
          "data": {
            "text/plain": [
              "<Figure size 2500x1000 with 1 Axes>"
            ],
            "image/png": "[encoded data removed]"
          },
          "metadata": {}
        }
      ]
    }
  ]
}